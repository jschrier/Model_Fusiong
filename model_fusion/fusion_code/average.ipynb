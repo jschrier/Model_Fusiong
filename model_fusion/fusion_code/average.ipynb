{
 "cells": [
  {
   "cell_type": "code",
   "execution_count": 1,
   "metadata": {},
   "outputs": [],
   "source": [
    "from matplotlib import pyplot as plt\n",
    "import pandas as pd\n",
    "import modelFusion as MF\n",
    "import numpy as np"
   ]
  },
  {
   "cell_type": "code",
   "execution_count": 2,
   "metadata": {},
   "outputs": [],
   "source": [
    "#Crank 30\n",
    "# Support vector radial basis classifier\n",
    "A30 = pd.read_csv('Crank data/Crank 30/SVM.csv')\n",
    "# Random forest classification\n",
    "B30 = pd.read_csv('Crank data/Crank 30/RF.csv')\n",
    "# Weighted logistic classifier\n",
    "C30 = pd.read_csv('Crank data/Crank 30/WLC.csv')\n",
    "# Gradient boosted tree\n",
    "D30 = pd.read_csv('Crank data/Crank 30/GBT.csv')"
   ]
  },
  {
   "cell_type": "code",
   "execution_count": 3,
   "metadata": {},
   "outputs": [],
   "source": [
    "#Crank 31\n",
    "# Support vector radial basis classifier\n",
    "A31 = pd.read_csv('Crank data/Crank 31/AZZ8ZVP7QE9GB.csv')\n",
    "# Random forest classification\n",
    "B31 = pd.read_csv('Crank data/Crank 31/EWAV7K1DX6XXE.csv')\n",
    "# Weighted logistic classifier\n",
    "C31 = pd.read_csv('Crank data/Crank 31/AGPZMVZOBMLXB.csv')\n",
    "# Gradient boosted tree\n",
    "D31 = pd.read_csv('Crank data/Crank 31/EW1JYBDLMBYEY.csv')"
   ]
  },
  {
   "cell_type": "code",
   "execution_count": 4,
   "metadata": {},
   "outputs": [],
   "source": [
    "#Crank 32\n",
    "# Support vector radial basis classifier\n",
    "A32 = pd.read_csv('Crank data/Crank 32/SVM.csv')\n",
    "# Random forest classification\n",
    "B32 = pd.read_csv('Crank data/Crank 32/RF.csv')\n",
    "# Weighted logistic classifier\n",
    "C32 = pd.read_csv('Crank data/Crank 32/WLC.csv')\n",
    "# Gradient boosted tree\n",
    "D32 = pd.read_csv('Crank data/Crank 32/GBT.csv')"
   ]
  },
  {
   "cell_type": "code",
   "execution_count": 5,
   "metadata": {},
   "outputs": [],
   "source": [
    "#Crank 33\n",
    "# Support vector radial basis classifier\n",
    "A33 = pd.read_csv('Crank data/Crank 33/SVM.csv')\n",
    "# Random forest classification\n",
    "B33 = pd.read_csv('Crank data/Crank 33/RF.csv')\n",
    "# Weighted logistic classifier\n",
    "C33= pd.read_csv('Crank data/Crank 33/WLC.csv')\n",
    "# Gradient boosted tree\n",
    "D33 = pd.read_csv('Crank data/Crank 33/GBT.csv')"
   ]
  },
  {
   "cell_type": "code",
   "execution_count": 6,
   "metadata": {},
   "outputs": [],
   "source": [
    "#Crank 34\n",
    "# Support vector radial basis classifier\n",
    "A34 = pd.read_csv('Crank data/Crank 34/SVM.csv')\n",
    "# Random forest classification\n",
    "B34 = pd.read_csv('Crank data/Crank 34/RF.csv')\n",
    "# Weighted logistic classifier\n",
    "C34 = pd.read_csv('Crank data/Crank 34/WLC.csv')\n",
    "# Gradient boosted tree\n",
    "D34 = pd.read_csv('Crank data/Crank 34/GBT.csv')"
   ]
  },
  {
   "cell_type": "code",
   "execution_count": 7,
   "metadata": {},
   "outputs": [],
   "source": [
    "#Crank 35\n",
    "# Support vector radial basis classifier\n",
    "A35 = pd.read_csv('Crank data/Crank 35/AZ672Y7KX8YBD.csv')\n",
    "# Random forest classification\n",
    "B35 = pd.read_csv('Crank data/Crank 35/AZADXOROE67XB.csv')\n",
    "# Weighted logistic classifier\n",
    "C35 = pd.read_csv('Crank data/Crank 35/6QWEDG889BNXW.csv')\n",
    "# Gradient boosted tree\n",
    "D35 = pd.read_csv('Crank data/Crank 35/EWGBMJAQQYK6Y.csv')"
   ]
  },
  {
   "cell_type": "code",
   "execution_count": 8,
   "metadata": {},
   "outputs": [],
   "source": [
    "#Crank 36\n",
    "# Support vector radial basis classifier\n",
    "A36 = pd.read_csv('Crank data/Crank 36/SVM.csv')\n",
    "# Random forest classification\n",
    "B36 = pd.read_csv('Crank data/Crank 36/RF.csv')\n",
    "# Weighted logistic classifier\n",
    "C36 = pd.read_csv('Crank data/Crank 36/WLC.csv')\n",
    "# Gradient boosted tree\n",
    "D36 = pd.read_csv('Crank data/Crank 36/GBT.csv')"
   ]
  },
  {
   "cell_type": "code",
   "execution_count": 9,
   "metadata": {},
   "outputs": [],
   "source": [
    "#Crank 37\n",
    "# Support vector radial basis classifier\n",
    "A37 = pd.read_csv('Crank data/Crank 37/SVM.csv')\n",
    "# Random forest classification\n",
    "B37 = pd.read_csv('Crank data/Crank 37/RF.csv')\n",
    "# Weighted logistic classifier\n",
    "C37 = pd.read_csv('Crank data/Crank 37/WLC.csv')\n",
    "# Gradient boosted tree\n",
    "D37 = pd.read_csv('Crank data/Crank 37/GBT.csv')"
   ]
  },
  {
   "cell_type": "code",
   "execution_count": 10,
   "metadata": {},
   "outputs": [],
   "source": [
    "#Crank 38\n",
    "# Support vector radial basis classifier\n",
    "A38 = pd.read_csv('Crank data/Crank 38/SVM.csv')\n",
    "# Random forest classification\n",
    "B38 = pd.read_csv('Crank data/Crank 38/RF.csv')\n",
    "# Weighted logistic classifier\n",
    "C38 = pd.read_csv('Crank data/Crank 38/WLC.csv')\n",
    "# Gradient boosted tree\n",
    "D38 = pd.read_csv('Crank data/Crank 38/GBT.csv')"
   ]
  },
  {
   "cell_type": "code",
   "execution_count": 11,
   "metadata": {},
   "outputs": [],
   "source": [
    "#Crank 39\n",
    "# Support vector radial basis classifier\n",
    "A39 = pd.read_csv('Crank data/Crank 39/6L7PZD6PVDWZ3.csv')\n",
    "# Random forest classification\n",
    "B39 = pd.read_csv('Crank data/Crank 39/QGLDVAL7LMYVE.csv')\n",
    "# Weighted logistic classifier\n",
    "C39 = pd.read_csv('Crank data/Crank 39/Q6YV269PNPMN9.csv')\n",
    "# Gradient boosted tree\n",
    "D39 = pd.read_csv('Crank data/Crank 39/6DE6GM9VL678Y.csv')"
   ]
  },
  {
   "cell_type": "code",
   "execution_count": 12,
   "metadata": {},
   "outputs": [],
   "source": [
    "#Crank 40\n",
    "# Support vector radial basis classifier\n",
    "A40 = pd.read_csv('Crank data/Crank 40/SVM.csv')\n",
    "# Random forest classification\n",
    "B40 = pd.read_csv('Crank data/Crank 40/RF.csv')\n",
    "# Weighted logistic classifier\n",
    "C40 = pd.read_csv('Crank data/Crank 40/WLC.csv')\n",
    "# Gradient boosted tree\n",
    "D40 = pd.read_csv('Crank data/Crank 40/GBT.csv')"
   ]
  },
  {
   "cell_type": "code",
   "execution_count": 13,
   "metadata": {},
   "outputs": [],
   "source": [
    "#Crank 41\n",
    "# Support vector radial basis classifier\n",
    "A41 = pd.read_csv('Crank data/Crank 41/SVM.csv')\n",
    "# Random forest classification\n",
    "B41 = pd.read_csv('Crank data/Crank 41/RF.csv')\n",
    "# Weighted logistic classifier\n",
    "C41 = pd.read_csv('Crank data/Crank 41/WLC.csv')\n",
    "# Gradient boosted tree\n",
    "D41 = pd.read_csv('Crank data/Crank 41/GBT.csv')"
   ]
  },
  {
   "cell_type": "code",
   "execution_count": 14,
   "metadata": {},
   "outputs": [],
   "source": [
    "#Crank 42\n",
    "# Support vector radial basis classifier\n",
    "A42 = pd.read_csv('Crank data/Crank 42/SVM.csv')\n",
    "# Random forest classification\n",
    "B42 = pd.read_csv('Crank data/Crank 42/RF.csv')\n",
    "# Weighted logistic classifier\n",
    "C42 = pd.read_csv('Crank data/Crank 42/WLC.csv')\n",
    "# Gradient boosted tree\n",
    "D42 = pd.read_csv('Crank data/Crank 42/GBT.csv')"
   ]
  },
  {
   "cell_type": "code",
   "execution_count": 15,
   "metadata": {},
   "outputs": [],
   "source": [
    "#Crank 43\n",
    "# Support vector radial basis classifier\n",
    "A43 = pd.read_csv('Crank data/Crank 43/SVM.csv')\n",
    "# Random forest classification\n",
    "B43 = pd.read_csv('Crank data/Crank 43/RF.csv')\n",
    "# Weighted logistic classifier\n",
    "C43 = pd.read_csv('Crank data/Crank 43/WLC.csv')\n",
    "# Gradient boosted tree\n",
    "D43 = pd.read_csv('Crank data/Crank 43/GBT.csv')"
   ]
  },
  {
   "cell_type": "code",
   "execution_count": 16,
   "metadata": {},
   "outputs": [],
   "source": [
    "#Crank 44\n",
    "# Support vector radial basis classifier\n",
    "A44 = pd.read_csv('Crank data//Crank 44/w9zj18ewvMD2D.csv')\n",
    "# Random forest classification\n",
    "B44 = pd.read_csv('Crank data//Crank 44/w3qaqvdepL2JZ.csv')\n",
    "# Weighted logistic classifier\n",
    "C44 = pd.read_csv('Crank data//Crank 44/wZWGwwoZOBZwZ.csv')\n",
    "# Gradient boosted tree\n",
    "D44 = pd.read_csv('Crank data//Crank 44/w3M6mXamm38Or.csv')"
   ]
  },
  {
   "cell_type": "code",
   "execution_count": 17,
   "metadata": {},
   "outputs": [],
   "source": [
    "def model_information(x):\n",
    "    TP = FP= TN= FN=0\n",
    "    for i in range(len(x)):\n",
    "        if x[\"truth\"][i] == 1 and x[\"pred\"][i] == 1:\n",
    "            TP = TP +1\n",
    "        elif x[\"truth\"][i] == 0 and x[\"pred\"][i] == 1:\n",
    "            FP = FP + 1\n",
    "        elif x[\"truth\"][i] == 0 and x[\"pred\"][i] == 0:\n",
    "            TN = TN + 1\n",
    "        elif x[\"truth\"][i] == 1 and x[\"pred\"][i] == 0:\n",
    "            FN = FN + 1\n",
    "    accuracy = (TP+TN)/(TP+FP+TN+FN)\n",
    "    precision = TP/(TP+FP)\n",
    "    recall=TP/(TP+FN)\n",
    "    table = {'accuracy': accuracy, 'precision': precision, 'recall': recall}\n",
    "    return table"
   ]
  },
  {
   "cell_type": "code",
   "execution_count": 18,
   "metadata": {},
   "outputs": [],
   "source": [
    "def single_information(model):\n",
    "    name = ['A','B','C','D']\n",
    "    single = pd.DataFrame()\n",
    "    for i in range(len(model)):\n",
    "        single = single.append(model_information(model[i]), ignore_index=True)\n",
    "    single['model'] = name\n",
    "    single = single.set_index('model')\n",
    "    return single"
   ]
  },
  {
   "cell_type": "code",
   "execution_count": 19,
   "metadata": {},
   "outputs": [],
   "source": [
    "def modeling (A, B, C, D):\n",
    "    SVM = MF.preclean(A)\n",
    "    RF = MF.preclean(B)\n",
    "    WLC = MF.preclean(C)\n",
    "    GBT = MF.preclean(D)\n",
    "    CombModel = [SVM, RF, WLC, GBT]\n",
    "    #rank function and precision\n",
    "    RA, A_prec = MF.rank_raw(SVM)\n",
    "    RB, B_prec = MF.rank_raw(RF)\n",
    "    RC, C_prec = MF.rank_raw(WLC)\n",
    "    RD, D_prec = MF.rank_raw(GBT)\n",
    "    \n",
    "    result = single_information(CombModel)\n",
    "    result['rank preciscion'] = [A_prec, B_prec, C_prec, D_prec]\n",
    "    return result"
   ]
  },
  {
   "cell_type": "code",
   "execution_count": 20,
   "metadata": {},
   "outputs": [],
   "source": [
    "model30 = modeling(A30,B30,C30,D30)\n",
    "model31 = modeling(A31,B31,C31,D31)\n",
    "model32 = modeling(A32,B32,C32,D32)\n",
    "model33 = modeling(A33,B33,C33,D33)\n",
    "model34 = modeling(A34,B34,C34,D34)\n",
    "model35 = modeling(A35,B35,C35,D35)\n",
    "model36 = modeling(A36,B36,C36,D36)\n",
    "model37 = modeling(A37,B37,C37,D37)\n",
    "model38 = modeling(A38,B38,C38,D38)\n",
    "model39 = modeling(A39,B39,C39,D39)\n",
    "model40 = modeling(A40,B40,C40,D40)\n",
    "model41 = modeling(A41,B41,C41,D41)\n",
    "model42 = modeling(A42,B42,C42,D42)\n",
    "model43 = modeling(A43,B43,C43,D43)\n",
    "model44 = modeling(A44,B44,C44,D44)"
   ]
  },
  {
   "cell_type": "code",
   "execution_count": 21,
   "metadata": {},
   "outputs": [],
   "source": [
    "df_concat = pd.concat((model30,model31,model32,model33,model34,model35,model36,model37,model38,model39,model40,model41, model42, model43))"
   ]
  },
  {
   "cell_type": "code",
   "execution_count": 22,
   "metadata": {},
   "outputs": [],
   "source": [
    "by_row_index = df_concat.groupby(df_concat.index)\n",
    "df_means = by_row_index.mean()"
   ]
  },
  {
   "cell_type": "code",
   "execution_count": 23,
   "metadata": {},
   "outputs": [
    {
     "data": {
      "text/html": [
       "<div>\n",
       "<style scoped>\n",
       "    .dataframe tbody tr th:only-of-type {\n",
       "        vertical-align: middle;\n",
       "    }\n",
       "\n",
       "    .dataframe tbody tr th {\n",
       "        vertical-align: top;\n",
       "    }\n",
       "\n",
       "    .dataframe thead th {\n",
       "        text-align: right;\n",
       "    }\n",
       "</style>\n",
       "<table border=\"1\" class=\"dataframe\">\n",
       "  <thead>\n",
       "    <tr style=\"text-align: right;\">\n",
       "      <th></th>\n",
       "      <th>accuracy</th>\n",
       "      <th>precision</th>\n",
       "      <th>recall</th>\n",
       "      <th>rank preciscion</th>\n",
       "    </tr>\n",
       "    <tr>\n",
       "      <th>model</th>\n",
       "      <th></th>\n",
       "      <th></th>\n",
       "      <th></th>\n",
       "      <th></th>\n",
       "    </tr>\n",
       "  </thead>\n",
       "  <tbody>\n",
       "    <tr>\n",
       "      <th>A</th>\n",
       "      <td>0.886874</td>\n",
       "      <td>0.735719</td>\n",
       "      <td>0.752516</td>\n",
       "      <td>0.745703</td>\n",
       "    </tr>\n",
       "    <tr>\n",
       "      <th>B</th>\n",
       "      <td>0.844055</td>\n",
       "      <td>0.597515</td>\n",
       "      <td>0.877328</td>\n",
       "      <td>0.714414</td>\n",
       "    </tr>\n",
       "    <tr>\n",
       "      <th>C</th>\n",
       "      <td>0.689489</td>\n",
       "      <td>0.387831</td>\n",
       "      <td>0.715157</td>\n",
       "      <td>0.476158</td>\n",
       "    </tr>\n",
       "    <tr>\n",
       "      <th>D</th>\n",
       "      <td>0.884540</td>\n",
       "      <td>0.744631</td>\n",
       "      <td>0.716323</td>\n",
       "      <td>0.734130</td>\n",
       "    </tr>\n",
       "  </tbody>\n",
       "</table>\n",
       "</div>"
      ],
      "text/plain": [
       "       accuracy  precision    recall  rank preciscion\n",
       "model                                                \n",
       "A      0.886874   0.735719  0.752516         0.745703\n",
       "B      0.844055   0.597515  0.877328         0.714414\n",
       "C      0.689489   0.387831  0.715157         0.476158\n",
       "D      0.884540   0.744631  0.716323         0.734130"
      ]
     },
     "execution_count": 23,
     "metadata": {},
     "output_type": "execute_result"
    }
   ],
   "source": [
    "df_means"
   ]
  },
  {
   "cell_type": "code",
   "execution_count": 24,
   "metadata": {},
   "outputs": [],
   "source": [
    "df_STD = by_row_index.std()"
   ]
  },
  {
   "cell_type": "code",
   "execution_count": 25,
   "metadata": {},
   "outputs": [
    {
     "data": {
      "text/html": [
       "<div>\n",
       "<style scoped>\n",
       "    .dataframe tbody tr th:only-of-type {\n",
       "        vertical-align: middle;\n",
       "    }\n",
       "\n",
       "    .dataframe tbody tr th {\n",
       "        vertical-align: top;\n",
       "    }\n",
       "\n",
       "    .dataframe thead th {\n",
       "        text-align: right;\n",
       "    }\n",
       "</style>\n",
       "<table border=\"1\" class=\"dataframe\">\n",
       "  <thead>\n",
       "    <tr style=\"text-align: right;\">\n",
       "      <th></th>\n",
       "      <th>accuracy</th>\n",
       "      <th>precision</th>\n",
       "      <th>recall</th>\n",
       "      <th>rank preciscion</th>\n",
       "    </tr>\n",
       "    <tr>\n",
       "      <th>model</th>\n",
       "      <th></th>\n",
       "      <th></th>\n",
       "      <th></th>\n",
       "      <th></th>\n",
       "    </tr>\n",
       "  </thead>\n",
       "  <tbody>\n",
       "    <tr>\n",
       "      <th>A</th>\n",
       "      <td>0.005580</td>\n",
       "      <td>0.028071</td>\n",
       "      <td>0.020274</td>\n",
       "      <td>0.019946</td>\n",
       "    </tr>\n",
       "    <tr>\n",
       "      <th>B</th>\n",
       "      <td>0.008204</td>\n",
       "      <td>0.024324</td>\n",
       "      <td>0.015391</td>\n",
       "      <td>0.032212</td>\n",
       "    </tr>\n",
       "    <tr>\n",
       "      <th>C</th>\n",
       "      <td>0.009845</td>\n",
       "      <td>0.032662</td>\n",
       "      <td>0.022990</td>\n",
       "      <td>0.023475</td>\n",
       "    </tr>\n",
       "    <tr>\n",
       "      <th>D</th>\n",
       "      <td>0.006359</td>\n",
       "      <td>0.029049</td>\n",
       "      <td>0.024777</td>\n",
       "      <td>0.025545</td>\n",
       "    </tr>\n",
       "  </tbody>\n",
       "</table>\n",
       "</div>"
      ],
      "text/plain": [
       "       accuracy  precision    recall  rank preciscion\n",
       "model                                                \n",
       "A      0.005580   0.028071  0.020274         0.019946\n",
       "B      0.008204   0.024324  0.015391         0.032212\n",
       "C      0.009845   0.032662  0.022990         0.023475\n",
       "D      0.006359   0.029049  0.024777         0.025545"
      ]
     },
     "execution_count": 25,
     "metadata": {},
     "output_type": "execute_result"
    }
   ],
   "source": [
    "df_STD"
   ]
  },
  {
   "cell_type": "code",
   "execution_count": 26,
   "metadata": {},
   "outputs": [
    {
     "data": {
      "text/html": [
       "<div>\n",
       "<style scoped>\n",
       "    .dataframe tbody tr th:only-of-type {\n",
       "        vertical-align: middle;\n",
       "    }\n",
       "\n",
       "    .dataframe tbody tr th {\n",
       "        vertical-align: top;\n",
       "    }\n",
       "\n",
       "    .dataframe thead th {\n",
       "        text-align: right;\n",
       "    }\n",
       "</style>\n",
       "<table border=\"1\" class=\"dataframe\">\n",
       "  <thead>\n",
       "    <tr style=\"text-align: right;\">\n",
       "      <th></th>\n",
       "      <th>accuracy</th>\n",
       "      <th>precision</th>\n",
       "      <th>recall</th>\n",
       "      <th>rank preciscion</th>\n",
       "    </tr>\n",
       "    <tr>\n",
       "      <th>model</th>\n",
       "      <th></th>\n",
       "      <th></th>\n",
       "      <th></th>\n",
       "      <th></th>\n",
       "    </tr>\n",
       "  </thead>\n",
       "  <tbody>\n",
       "    <tr>\n",
       "      <th>A</th>\n",
       "      <td>0.876997</td>\n",
       "      <td>0.665789</td>\n",
       "      <td>0.708683</td>\n",
       "      <td>0.680672</td>\n",
       "    </tr>\n",
       "    <tr>\n",
       "      <th>B</th>\n",
       "      <td>0.861555</td>\n",
       "      <td>0.592030</td>\n",
       "      <td>0.873950</td>\n",
       "      <td>0.697479</td>\n",
       "    </tr>\n",
       "    <tr>\n",
       "      <th>C</th>\n",
       "      <td>0.700745</td>\n",
       "      <td>0.362784</td>\n",
       "      <td>0.759104</td>\n",
       "      <td>0.439776</td>\n",
       "    </tr>\n",
       "    <tr>\n",
       "      <th>D</th>\n",
       "      <td>0.888179</td>\n",
       "      <td>0.728972</td>\n",
       "      <td>0.655462</td>\n",
       "      <td>0.703081</td>\n",
       "    </tr>\n",
       "  </tbody>\n",
       "</table>\n",
       "</div>"
      ],
      "text/plain": [
       "       accuracy  precision    recall  rank preciscion\n",
       "model                                                \n",
       "A      0.876997   0.665789  0.708683         0.680672\n",
       "B      0.861555   0.592030  0.873950         0.697479\n",
       "C      0.700745   0.362784  0.759104         0.439776\n",
       "D      0.888179   0.728972  0.655462         0.703081"
      ]
     },
     "execution_count": 26,
     "metadata": {},
     "output_type": "execute_result"
    }
   ],
   "source": [
    "model44"
   ]
  }
 ],
 "metadata": {
  "kernelspec": {
   "display_name": "Python 3",
   "language": "python",
   "name": "python3"
  },
  "language_info": {
   "codemirror_mode": {
    "name": "ipython",
    "version": 3
   },
   "file_extension": ".py",
   "mimetype": "text/x-python",
   "name": "python",
   "nbconvert_exporter": "python",
   "pygments_lexer": "ipython3",
   "version": "3.6.8"
  }
 },
 "nbformat": 4,
 "nbformat_minor": 2
}

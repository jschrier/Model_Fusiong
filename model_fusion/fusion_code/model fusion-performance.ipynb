{
 "cells": [
  {
   "cell_type": "code",
   "execution_count": 1,
   "metadata": {},
   "outputs": [],
   "source": [
    "from matplotlib import pyplot as plt\n",
    "import pandas as pd\n",
    "import modelFusion as MF\n",
    "import numpy as np"
   ]
  },
  {
   "cell_type": "code",
   "execution_count": 2,
   "metadata": {},
   "outputs": [],
   "source": [
    "# Support vector radial basis classifier\n",
    "A = pd.read_csv('Crank data/Crank 44/w9zj18ewvMD2D.csv')\n",
    "# Random forest classification\n",
    "B = pd.read_csv('Crank data/Crank 44/w3qaqvdepL2JZ.csv')\n",
    "# Weighted logistic classifier\n",
    "C = pd.read_csv('Crank data/Crank 44/wZWGwwoZOBZwZ.csv')\n",
    "# Gradient boosted tree\n",
    "D = pd.read_csv('Crank data/Crank 44/w3M6mXamm38Or.csv')"
   ]
  },
  {
   "cell_type": "code",
   "execution_count": 3,
   "metadata": {},
   "outputs": [],
   "source": [
    "Raw_A = MF.preclean(A)\n",
    "Raw_B = MF.preclean(B)\n",
    "Raw_C = MF.preclean(C)\n",
    "Raw_D = MF.preclean(D)\n",
    "\n",
    "raw = MF.raw_def([Raw_A,Raw_B,Raw_C,Raw_D])\n"
   ]
  },
  {
   "cell_type": "code",
   "execution_count": 4,
   "metadata": {},
   "outputs": [
    {
     "data": {
      "image/png": "[encoded data removed]",
      "text/plain": [
       "<Figure size 432x288 with 1 Axes>"
      ]
     },
     "metadata": {
      "needs_background": "light"
     },
     "output_type": "display_data"
    }
   ],
   "source": [
    "RSCG = MF.RSC_graph(raw)"
   ]
  },
  {
   "cell_type": "code",
   "execution_count": 5,
   "metadata": {},
   "outputs": [],
   "source": [
    "RA, A_prec = MF.rank_raw(Raw_A)\n",
    "RB, B_prec = MF.rank_raw(Raw_B)\n",
    "RC, C_prec = MF.rank_raw(Raw_C)\n",
    "RD, D_prec = MF.rank_raw(Raw_D)"
   ]
  },
  {
   "cell_type": "code",
   "execution_count": 6,
   "metadata": {},
   "outputs": [
    {
     "data": {
      "text/html": [
       "<div>\n",
       "<style scoped>\n",
       "    .dataframe tbody tr th:only-of-type {\n",
       "        vertical-align: middle;\n",
       "    }\n",
       "\n",
       "    .dataframe tbody tr th {\n",
       "        vertical-align: top;\n",
       "    }\n",
       "\n",
       "    .dataframe thead th {\n",
       "        text-align: right;\n",
       "    }\n",
       "</style>\n",
       "<table border=\"1\" class=\"dataframe\">\n",
       "  <thead>\n",
       "    <tr style=\"text-align: right;\">\n",
       "      <th></th>\n",
       "      <th>SVM</th>\n",
       "      <th>RF</th>\n",
       "      <th>WLC</th>\n",
       "      <th>GBT</th>\n",
       "    </tr>\n",
       "  </thead>\n",
       "  <tbody>\n",
       "    <tr>\n",
       "      <th>SVM</th>\n",
       "      <td>0.000000</td>\n",
       "      <td>218.295803</td>\n",
       "      <td>454.642194</td>\n",
       "      <td>60.392663</td>\n",
       "    </tr>\n",
       "    <tr>\n",
       "      <th>RF</th>\n",
       "      <td>218.295803</td>\n",
       "      <td>0.000000</td>\n",
       "      <td>236.346392</td>\n",
       "      <td>278.688466</td>\n",
       "    </tr>\n",
       "    <tr>\n",
       "      <th>WLC</th>\n",
       "      <td>454.642194</td>\n",
       "      <td>236.346392</td>\n",
       "      <td>0.000000</td>\n",
       "      <td>515.034857</td>\n",
       "    </tr>\n",
       "    <tr>\n",
       "      <th>GBT</th>\n",
       "      <td>60.392663</td>\n",
       "      <td>278.688466</td>\n",
       "      <td>515.034857</td>\n",
       "      <td>0.000000</td>\n",
       "    </tr>\n",
       "  </tbody>\n",
       "</table>\n",
       "</div>"
      ],
      "text/plain": [
       "            SVM          RF         WLC         GBT\n",
       "SVM    0.000000  218.295803  454.642194   60.392663\n",
       "RF   218.295803    0.000000  236.346392  278.688466\n",
       "WLC  454.642194  236.346392    0.000000  515.034857\n",
       "GBT   60.392663  278.688466  515.034857    0.000000"
      ]
     },
     "execution_count": 6,
     "metadata": {},
     "output_type": "execute_result"
    }
   ],
   "source": [
    "df = MF.cognitiveD(raw)\n",
    "df"
   ]
  },
  {
   "cell_type": "code",
   "execution_count": 7,
   "metadata": {},
   "outputs": [
    {
     "name": "stderr",
     "output_type": "stream",
     "text": [
      "/home/jupyter/tacc-work/Yuanqing/modelFusion.py:165: SettingWithCopyWarning: \n",
      "A value is trying to be set on a copy of a slice from a DataFrame.\n",
      "Try using .loc[row_indexer,col_indexer] = value instead\n",
      "\n",
      "See the caveats in the documentation: http://pandas.pydata.org/pandas-docs/stable/indexing.html#indexing-view-versus-copy\n",
      "  CMB['score'] = (first.iloc[:,[-1]]*weight[0] + second.iloc[:,[-1]]*weight[1] )/(weight[0]+weight[1])\n",
      "/home/jupyter/tacc-work/Yuanqing/modelFusion.py:185: SettingWithCopyWarning: \n",
      "A value is trying to be set on a copy of a slice from a DataFrame.\n",
      "Try using .loc[row_indexer,col_indexer] = value instead\n",
      "\n",
      "See the caveats in the documentation: http://pandas.pydata.org/pandas-docs/stable/indexing.html#indexing-view-versus-copy\n",
      "  CMB['score'] = (first.iloc[:,[-1]]*weight[0] + second.iloc[:,[-1]]*weight[1]+third.iloc[:,[-1]]*weight[2] )/(weight[0]+weight[1]+weight[2])\n",
      "/home/jupyter/tacc-work/Yuanqing/modelFusion.py:206: SettingWithCopyWarning: \n",
      "A value is trying to be set on a copy of a slice from a DataFrame.\n",
      "Try using .loc[row_indexer,col_indexer] = value instead\n",
      "\n",
      "See the caveats in the documentation: http://pandas.pydata.org/pandas-docs/stable/indexing.html#indexing-view-versus-copy\n",
      "  CMB['score'] = (first.iloc[:,[-1]]*weight[0] + second.iloc[:,[-1]]*weight[1] +third.iloc[:,[-1]]*weight[2]                    + fourth.iloc[:,[-1]]*weight[3])/(weight[0]+weight[1]+weight[2]+weight[3])\n"
     ]
    }
   ],
   "source": [
    "SCAB = MF.two_fusionW(Raw_A,Raw_B,[A_prec, B_prec])\n",
    "SCAC = MF.two_fusionW(Raw_A,Raw_C,[A_prec, C_prec])\n",
    "SCAD = MF.two_fusionW(Raw_A,Raw_D,[A_prec, D_prec])\n",
    "SCBC = MF.two_fusionW(Raw_B,Raw_C,[B_prec, C_prec])\n",
    "SCBD = MF.two_fusionW(Raw_B,Raw_D,[B_prec, D_prec])\n",
    "SCCD = MF.two_fusionW(Raw_C,Raw_D,[C_prec, D_prec])\n",
    "SCABC = MF.three_fusionW(Raw_A,Raw_B,Raw_C,[A_prec,B_prec, C_prec])\n",
    "SCABD = MF.three_fusionW(Raw_A,Raw_B,Raw_D,[A_prec,B_prec, D_prec])\n",
    "SCACD = MF.three_fusionW(Raw_A,Raw_C,Raw_D,[A_prec,C_prec, D_prec])\n",
    "SCBCD = MF.three_fusionW(Raw_B,Raw_C,Raw_D,[B_prec,C_prec, D_prec])\n",
    "SCABCD = MF.four_fusionW(Raw_A,Raw_B,Raw_C,Raw_D,[A_prec,B_prec,C_prec,D_prec])\n"
   ]
  },
  {
   "cell_type": "code",
   "execution_count": 8,
   "metadata": {},
   "outputs": [
    {
     "data": {
      "text/plain": [
       "'\\nSCAB_Acc = two_fusionW(Raw_A,Raw_B,[accuracy[0], accuracy[1]])\\nSCAC_Acc = two_fusionW(Raw_A,Raw_C,[accuracy[0], accuracy[2]])\\nSCAD_Acc = two_fusionW(Raw_A,Raw_D,[accuracy[0], accuracy[3]])\\nSCBC_Acc = two_fusionW(Raw_B,Raw_C,[accuracy[1], accuracy[2]])\\nSCBD_Acc = two_fusionW(Raw_B,Raw_D,[accuracy[1], accuracy[3]])\\nSCCD_Acc = two_fusionW(Raw_C,Raw_D,[accuracy[2], accuracy[3]])\\nSCABC_Acc = three_fusionW(Raw_A,Raw_B,Raw_C,[accuracy[0], accuracy[1],accuracy[2]])\\nSCABD_Acc = three_fusionW(Raw_A,Raw_B,Raw_D,[accuracy[0], accuracy[1],accuracy[3]])\\nSCACD_Acc = three_fusionW(Raw_A,Raw_C,Raw_D,[accuracy[0], accuracy[2],accuracy[3]])\\nSCBCD_Acc = three_fusionW(Raw_B,Raw_C,Raw_D,[accuracy[1], accuracy[2],accuracy[3]])\\nSCABCD_Acc = four_fusionW(Raw_A,Raw_B,Raw_C,Raw_D,[accuracy[0], accuracy[1],accuracy[2],accuracy[3]])\\n'"
      ]
     },
     "execution_count": 8,
     "metadata": {},
     "output_type": "execute_result"
    }
   ],
   "source": [
    "\"\"\"\n",
    "SCAB_Acc = two_fusionW(Raw_A,Raw_B,[accuracy[0], accuracy[1]])\n",
    "SCAC_Acc = two_fusionW(Raw_A,Raw_C,[accuracy[0], accuracy[2]])\n",
    "SCAD_Acc = two_fusionW(Raw_A,Raw_D,[accuracy[0], accuracy[3]])\n",
    "SCBC_Acc = two_fusionW(Raw_B,Raw_C,[accuracy[1], accuracy[2]])\n",
    "SCBD_Acc = two_fusionW(Raw_B,Raw_D,[accuracy[1], accuracy[3]])\n",
    "SCCD_Acc = two_fusionW(Raw_C,Raw_D,[accuracy[2], accuracy[3]])\n",
    "SCABC_Acc = three_fusionW(Raw_A,Raw_B,Raw_C,[accuracy[0], accuracy[1],accuracy[2]])\n",
    "SCABD_Acc = three_fusionW(Raw_A,Raw_B,Raw_D,[accuracy[0], accuracy[1],accuracy[3]])\n",
    "SCACD_Acc = three_fusionW(Raw_A,Raw_C,Raw_D,[accuracy[0], accuracy[2],accuracy[3]])\n",
    "SCBCD_Acc = three_fusionW(Raw_B,Raw_C,Raw_D,[accuracy[1], accuracy[2],accuracy[3]])\n",
    "SCABCD_Acc = four_fusionW(Raw_A,Raw_B,Raw_C,Raw_D,[accuracy[0], accuracy[1],accuracy[2],accuracy[3]])\n",
    "\"\"\""
   ]
  },
  {
   "cell_type": "code",
   "execution_count": 9,
   "metadata": {},
   "outputs": [],
   "source": [
    "RCAB = MF.two_fusionW(RA,RB,[A_prec, B_prec],False)\n",
    "RCAC = MF.two_fusionW(RA,RC,[A_prec, C_prec],False)\n",
    "RCAD = MF.two_fusionW(RA,RD,[A_prec, D_prec],False)\n",
    "RCBC = MF.two_fusionW(RB,RC,[B_prec, C_prec],False)\n",
    "RCBD = MF.two_fusionW(RB,RD,[B_prec, D_prec],False)\n",
    "RCCD = MF.two_fusionW(RC,RD,[C_prec, D_prec],False)\n",
    "RCABC = MF.three_fusionW(RA,RB,RC,[A_prec, B_prec, C_prec],False)\n",
    "RCABD = MF.three_fusionW(RA,RB,RD,[A_prec, B_prec, D_prec],False)\n",
    "RCACD = MF.three_fusionW(RA,RC,RD,[A_prec, C_prec, D_prec],False)\n",
    "RCBCD = MF.three_fusionW(RB,RC,RD,[B_prec, C_prec, D_prec],False)\n",
    "RCABCD = MF.four_fusionW(RA,RB,RC,RD,[A_prec, B_prec, C_prec, D_prec],False)"
   ]
  },
  {
   "cell_type": "code",
   "execution_count": 10,
   "metadata": {},
   "outputs": [],
   "source": [
    "#find the rank of each data point in each single ML model\n",
    "rawRank = pd.DataFrame([RA['ID'],RA['truth'],RA['rank'],RB['rank'],RC['rank'],RD['rank']])\n",
    "rawRank = rawRank.T"
   ]
  },
  {
   "cell_type": "code",
   "execution_count": 11,
   "metadata": {},
   "outputs": [],
   "source": [
    "# combined all the fusion model into one for later\n",
    "List = [SCAB,SCAC,SCAD,SCBC,SCBD,SCCD,SCABC,SCABD,SCACD,SCBCD,SCABCD]\n",
    "ListName = ['AB','AC','AD','BC','BD','CD','ABC','ABD','ACD','BCD','ABCD']"
   ]
  },
  {
   "cell_type": "code",
   "execution_count": 12,
   "metadata": {},
   "outputs": [],
   "source": [
    "#LIst = [SCAB_Acc,SCAC_Acc,SCAD_Acc,SCBC_Acc,SCBD_Acc,SCCD_Acc,SCABC_Acc,SCABD_Acc,SCACD_Acc,SCBCD_Acc,SCABCD_Acc]\n",
    "#LIstName = ['SCAB_Acc','SCAC_Acc','SCAD_Acc','SCBC_Acc','SCBD_Acc','SCCD_Acc','SCABC_Acc',\\\n",
    " #           'SCABD_Acc','SCACD_Acc','SCBCD_Acc','SCABCD_Acc']"
   ]
  },
  {
   "cell_type": "code",
   "execution_count": 13,
   "metadata": {},
   "outputs": [],
   "source": [
    "ListRank = [RCAB,RCAC,RCAD,RCBC,RCBD,RCCD,RCABC,RCABD,RCACD,RCBCD,RCABCD]\n",
    "ListRankName = ['RCAB','RCAC','RCAD','RCBC','RCBD','RCCD','RCABC','RCABD','RCACD','RCBCD','RCABCD']\n"
   ]
  },
  {
   "cell_type": "code",
   "execution_count": 14,
   "metadata": {},
   "outputs": [
    {
     "name": "stdout",
     "output_type": "stream",
     "text": [
      "AB\n",
      "        ID   rank     score  truth\n",
      "282  283.0  354.0  0.525298    1.0\n",
      "None\n",
      "AC\n",
      "Empty DataFrame\n",
      "Columns: []\n",
      "Index: []\n",
      "None\n",
      "AD\n",
      "Empty DataFrame\n",
      "Columns: []\n",
      "Index: []\n",
      "None\n",
      "BC\n",
      "Empty DataFrame\n",
      "Columns: []\n",
      "Index: []\n",
      "None\n",
      "BD\n",
      "Empty DataFrame\n",
      "Columns: []\n",
      "Index: []\n",
      "None\n",
      "CD\n",
      "Empty DataFrame\n",
      "Columns: []\n",
      "Index: []\n",
      "None\n",
      "ABC\n",
      "Empty DataFrame\n",
      "Columns: []\n",
      "Index: []\n",
      "None\n",
      "ABD\n",
      "Empty DataFrame\n",
      "Columns: []\n",
      "Index: []\n",
      "None\n",
      "ACD\n",
      "Empty DataFrame\n",
      "Columns: []\n",
      "Index: []\n",
      "None\n",
      "BCD\n",
      "Empty DataFrame\n",
      "Columns: []\n",
      "Index: []\n",
      "None\n",
      "ABCD\n",
      "Empty DataFrame\n",
      "Columns: []\n",
      "Index: []\n",
      "None\n"
     ]
    }
   ],
   "source": [
    "for i in range(11):\n",
    "    print(ListName[i])\n",
    "    print(MF.find_df(List[i],rawRank,sum(RA['truth'])))"
   ]
  },
  {
   "cell_type": "code",
   "execution_count": 15,
   "metadata": {},
   "outputs": [
    {
     "name": "stdout",
     "output_type": "stream",
     "text": [
      "AB\n",
      "Empty DataFrame\n",
      "Columns: []\n",
      "Index: []\n",
      "None\n",
      "AC\n",
      "Empty DataFrame\n",
      "Columns: []\n",
      "Index: []\n",
      "None\n",
      "AD\n",
      "Empty DataFrame\n",
      "Columns: []\n",
      "Index: []\n",
      "None\n",
      "BC\n",
      "Empty DataFrame\n",
      "Columns: []\n",
      "Index: []\n",
      "None\n",
      "BD\n",
      "Empty DataFrame\n",
      "Columns: []\n",
      "Index: []\n",
      "None\n",
      "CD\n",
      "Empty DataFrame\n",
      "Columns: []\n",
      "Index: []\n",
      "None\n",
      "ABC\n",
      "Empty DataFrame\n",
      "Columns: []\n",
      "Index: []\n",
      "None\n",
      "ABD\n",
      "Empty DataFrame\n",
      "Columns: []\n",
      "Index: []\n",
      "None\n",
      "ACD\n",
      "Empty DataFrame\n",
      "Columns: []\n",
      "Index: []\n",
      "None\n",
      "BCD\n",
      "Empty DataFrame\n",
      "Columns: []\n",
      "Index: []\n",
      "None\n",
      "ABCD\n",
      "Empty DataFrame\n",
      "Columns: []\n",
      "Index: []\n",
      "None\n"
     ]
    }
   ],
   "source": [
    "for i in range(11):\n",
    "    print(ListName[i])\n",
    "    print(MF.find_dfop(List[i],rawRank,sum(RA['truth'])))"
   ]
  },
  {
   "cell_type": "code",
   "execution_count": 16,
   "metadata": {},
   "outputs": [],
   "source": [
    "TPlist = []\n",
    "for i in range(len(List)):\n",
    "    x = MF.find_TP(List[i], sum(List[i]['truth']))\n",
    "    MF.addtolist(x,TPlist)\n",
    "    \n",
    "precision =[]\n",
    "\n",
    "for i in List:\n",
    "    x = MF.rank_function(i)\n",
    "    MF.addtolist(x,precision)\n",
    "\n",
    "    "
   ]
  },
  {
   "cell_type": "code",
   "execution_count": 17,
   "metadata": {},
   "outputs": [
    {
     "data": {
      "text/html": [
       "<div>\n",
       "<style scoped>\n",
       "    .dataframe tbody tr th:only-of-type {\n",
       "        vertical-align: middle;\n",
       "    }\n",
       "\n",
       "    .dataframe tbody tr th {\n",
       "        vertical-align: top;\n",
       "    }\n",
       "\n",
       "    .dataframe thead th {\n",
       "        text-align: right;\n",
       "    }\n",
       "</style>\n",
       "<table border=\"1\" class=\"dataframe\">\n",
       "  <thead>\n",
       "    <tr style=\"text-align: right;\">\n",
       "      <th></th>\n",
       "      <th>SC</th>\n",
       "      <th>True positive</th>\n",
       "    </tr>\n",
       "  </thead>\n",
       "  <tbody>\n",
       "    <tr>\n",
       "      <th>AB</th>\n",
       "      <td>0.719888</td>\n",
       "      <td>257</td>\n",
       "    </tr>\n",
       "    <tr>\n",
       "      <th>AC</th>\n",
       "      <td>0.647059</td>\n",
       "      <td>231</td>\n",
       "    </tr>\n",
       "    <tr>\n",
       "      <th>AD</th>\n",
       "      <td>0.697479</td>\n",
       "      <td>249</td>\n",
       "    </tr>\n",
       "    <tr>\n",
       "      <th>BC</th>\n",
       "      <td>0.677871</td>\n",
       "      <td>242</td>\n",
       "    </tr>\n",
       "    <tr>\n",
       "      <th>BD</th>\n",
       "      <td>0.705882</td>\n",
       "      <td>252</td>\n",
       "    </tr>\n",
       "    <tr>\n",
       "      <th>CD</th>\n",
       "      <td>0.691877</td>\n",
       "      <td>247</td>\n",
       "    </tr>\n",
       "    <tr>\n",
       "      <th>ABC</th>\n",
       "      <td>0.719888</td>\n",
       "      <td>257</td>\n",
       "    </tr>\n",
       "    <tr>\n",
       "      <th>ABD</th>\n",
       "      <td>0.708683</td>\n",
       "      <td>253</td>\n",
       "    </tr>\n",
       "    <tr>\n",
       "      <th>ACD</th>\n",
       "      <td>0.703081</td>\n",
       "      <td>251</td>\n",
       "    </tr>\n",
       "    <tr>\n",
       "      <th>BCD</th>\n",
       "      <td>0.708683</td>\n",
       "      <td>253</td>\n",
       "    </tr>\n",
       "    <tr>\n",
       "      <th>ABCD</th>\n",
       "      <td>0.722689</td>\n",
       "      <td>258</td>\n",
       "    </tr>\n",
       "  </tbody>\n",
       "</table>\n",
       "</div>"
      ],
      "text/plain": [
       "            SC  True positive\n",
       "AB    0.719888            257\n",
       "AC    0.647059            231\n",
       "AD    0.697479            249\n",
       "BC    0.677871            242\n",
       "BD    0.705882            252\n",
       "CD    0.691877            247\n",
       "ABC   0.719888            257\n",
       "ABD   0.708683            253\n",
       "ACD   0.703081            251\n",
       "BCD   0.708683            253\n",
       "ABCD  0.722689            258"
      ]
     },
     "execution_count": 17,
     "metadata": {},
     "output_type": "execute_result"
    }
   ],
   "source": [
    "dict = { 'True positive': TPlist,'SC': precision}\n",
    "df = pd.DataFrame(dict, index=['AB','AC','AD','BC','BD','CD',\n",
    "                               'ABC','ABD','ACD','BCD','ABCD'])\n",
    "df"
   ]
  },
  {
   "cell_type": "code",
   "execution_count": 18,
   "metadata": {},
   "outputs": [
    {
     "data": {
      "text/plain": [
       "357"
      ]
     },
     "execution_count": 18,
     "metadata": {},
     "output_type": "execute_result"
    }
   ],
   "source": [
    "sum(ListRank[5]['truth'])"
   ]
  },
  {
   "cell_type": "code",
   "execution_count": 19,
   "metadata": {},
   "outputs": [],
   "source": [
    "TPlistr = []\n",
    "for i in range(len(ListRank)):\n",
    "    x = MF.find_TP(ListRank[i], sum(ListRank[i]['truth']))\n",
    "    MF.addtolist(x,TPlistr)\n",
    "    \n",
    "precisionr =[]\n",
    "\n",
    "for i in ListRank:\n",
    "    x = MF.rank_function(i)\n",
    "    MF.addtolist(x,precisionr)"
   ]
  },
  {
   "cell_type": "code",
   "execution_count": 20,
   "metadata": {},
   "outputs": [
    {
     "data": {
      "text/html": [
       "<div>\n",
       "<style scoped>\n",
       "    .dataframe tbody tr th:only-of-type {\n",
       "        vertical-align: middle;\n",
       "    }\n",
       "\n",
       "    .dataframe tbody tr th {\n",
       "        vertical-align: top;\n",
       "    }\n",
       "\n",
       "    .dataframe thead th {\n",
       "        text-align: right;\n",
       "    }\n",
       "</style>\n",
       "<table border=\"1\" class=\"dataframe\">\n",
       "  <thead>\n",
       "    <tr style=\"text-align: right;\">\n",
       "      <th></th>\n",
       "      <th>RC</th>\n",
       "      <th>True positive</th>\n",
       "    </tr>\n",
       "  </thead>\n",
       "  <tbody>\n",
       "    <tr>\n",
       "      <th>AB</th>\n",
       "      <td>0.725490</td>\n",
       "      <td>259</td>\n",
       "    </tr>\n",
       "    <tr>\n",
       "      <th>AC</th>\n",
       "      <td>0.649860</td>\n",
       "      <td>232</td>\n",
       "    </tr>\n",
       "    <tr>\n",
       "      <th>AD</th>\n",
       "      <td>0.714286</td>\n",
       "      <td>255</td>\n",
       "    </tr>\n",
       "    <tr>\n",
       "      <th>BC</th>\n",
       "      <td>0.641457</td>\n",
       "      <td>229</td>\n",
       "    </tr>\n",
       "    <tr>\n",
       "      <th>BD</th>\n",
       "      <td>0.722689</td>\n",
       "      <td>258</td>\n",
       "    </tr>\n",
       "    <tr>\n",
       "      <th>CD</th>\n",
       "      <td>0.686275</td>\n",
       "      <td>245</td>\n",
       "    </tr>\n",
       "    <tr>\n",
       "      <th>ABC</th>\n",
       "      <td>0.714286</td>\n",
       "      <td>255</td>\n",
       "    </tr>\n",
       "    <tr>\n",
       "      <th>ABD</th>\n",
       "      <td>0.731092</td>\n",
       "      <td>261</td>\n",
       "    </tr>\n",
       "    <tr>\n",
       "      <th>ACD</th>\n",
       "      <td>0.717087</td>\n",
       "      <td>256</td>\n",
       "    </tr>\n",
       "    <tr>\n",
       "      <th>BCD</th>\n",
       "      <td>0.722689</td>\n",
       "      <td>258</td>\n",
       "    </tr>\n",
       "    <tr>\n",
       "      <th>ABCD</th>\n",
       "      <td>0.742297</td>\n",
       "      <td>265</td>\n",
       "    </tr>\n",
       "  </tbody>\n",
       "</table>\n",
       "</div>"
      ],
      "text/plain": [
       "            RC  True positive\n",
       "AB    0.725490            259\n",
       "AC    0.649860            232\n",
       "AD    0.714286            255\n",
       "BC    0.641457            229\n",
       "BD    0.722689            258\n",
       "CD    0.686275            245\n",
       "ABC   0.714286            255\n",
       "ABD   0.731092            261\n",
       "ACD   0.717087            256\n",
       "BCD   0.722689            258\n",
       "ABCD  0.742297            265"
      ]
     },
     "execution_count": 20,
     "metadata": {},
     "output_type": "execute_result"
    }
   ],
   "source": [
    "dict = { 'True positive': TPlistr,'RC': precisionr}\n",
    "rc = pd.DataFrame(dict, index=ListName)\n",
    "rc"
   ]
  },
  {
   "cell_type": "code",
   "execution_count": 21,
   "metadata": {
    "scrolled": true
   },
   "outputs": [
    {
     "name": "stdout",
     "output_type": "stream",
     "text": [
      "RCAB\n",
      "        ID   rank       score  truth\n",
      "282  283.0  351.0  376.853659    1.0\n",
      "None\n",
      "RCAC\n",
      "Empty DataFrame\n",
      "Columns: []\n",
      "Index: []\n",
      "None\n",
      "RCAD\n",
      "Empty DataFrame\n",
      "Columns: []\n",
      "Index: []\n",
      "None\n",
      "RCBC\n",
      "Empty DataFrame\n",
      "Columns: []\n",
      "Index: []\n",
      "None\n",
      "RCBD\n",
      "          ID   rank   score  truth\n",
      "1253  1254.0  348.0  364.51    1.0\n",
      "None\n",
      "RCCD\n",
      "Empty DataFrame\n",
      "Columns: []\n",
      "Index: []\n",
      "None\n",
      "RCABC\n",
      "Empty DataFrame\n",
      "Columns: []\n",
      "Index: []\n",
      "None\n",
      "RCABD\n",
      "Empty DataFrame\n",
      "Columns: []\n",
      "Index: []\n",
      "None\n",
      "RCACD\n",
      "Empty DataFrame\n",
      "Columns: []\n",
      "Index: []\n",
      "None\n",
      "RCBCD\n",
      "Empty DataFrame\n",
      "Columns: []\n",
      "Index: []\n",
      "None\n",
      "RCABCD\n",
      "Empty DataFrame\n",
      "Columns: []\n",
      "Index: []\n",
      "None\n"
     ]
    }
   ],
   "source": [
    "result=pd.DataFrame()\n",
    "for i in range(11):\n",
    "    print(ListRankName[i])\n",
    "    print(MF.find_df(ListRank[i],rawRank,sum(RA['truth'])))"
   ]
  },
  {
   "cell_type": "code",
   "execution_count": 22,
   "metadata": {},
   "outputs": [
    {
     "name": "stdout",
     "output_type": "stream",
     "text": [
      "RCAB\n",
      "Empty DataFrame\n",
      "Columns: []\n",
      "Index: []\n",
      "None\n",
      "RCAC\n",
      "Empty DataFrame\n",
      "Columns: []\n",
      "Index: []\n",
      "None\n",
      "RCAD\n",
      "Empty DataFrame\n",
      "Columns: []\n",
      "Index: []\n",
      "None\n",
      "RCBC\n",
      "Empty DataFrame\n",
      "Columns: []\n",
      "Index: []\n",
      "None\n",
      "RCBD\n",
      "Empty DataFrame\n",
      "Columns: []\n",
      "Index: []\n",
      "None\n",
      "RCCD\n",
      "Empty DataFrame\n",
      "Columns: []\n",
      "Index: []\n",
      "None\n",
      "RCABC\n",
      "Empty DataFrame\n",
      "Columns: []\n",
      "Index: []\n",
      "None\n",
      "RCABD\n",
      "Empty DataFrame\n",
      "Columns: []\n",
      "Index: []\n",
      "None\n",
      "RCACD\n",
      "Empty DataFrame\n",
      "Columns: []\n",
      "Index: []\n",
      "None\n",
      "RCBCD\n",
      "Empty DataFrame\n",
      "Columns: []\n",
      "Index: []\n",
      "None\n",
      "RCABCD\n",
      "Empty DataFrame\n",
      "Columns: []\n",
      "Index: []\n",
      "None\n"
     ]
    }
   ],
   "source": [
    "resultss=pd.DataFrame()\n",
    "for i in range(11):\n",
    "    print(ListRankName[i])\n",
    "    print(MF.find_dfop(ListRank[i],rawRank,sum(RA['truth'])))"
   ]
  },
  {
   "cell_type": "code",
   "execution_count": 23,
   "metadata": {},
   "outputs": [
    {
     "data": {
      "text/html": [
       "<div>\n",
       "<style scoped>\n",
       "    .dataframe tbody tr th:only-of-type {\n",
       "        vertical-align: middle;\n",
       "    }\n",
       "\n",
       "    .dataframe tbody tr th {\n",
       "        vertical-align: top;\n",
       "    }\n",
       "\n",
       "    .dataframe thead th {\n",
       "        text-align: right;\n",
       "    }\n",
       "</style>\n",
       "<table border=\"1\" class=\"dataframe\">\n",
       "  <thead>\n",
       "    <tr style=\"text-align: right;\">\n",
       "      <th></th>\n",
       "      <th>model</th>\n",
       "      <th>SC</th>\n",
       "      <th>RC</th>\n",
       "    </tr>\n",
       "  </thead>\n",
       "  <tbody>\n",
       "    <tr>\n",
       "      <th>AB</th>\n",
       "      <td>AB</td>\n",
       "      <td>0.719888</td>\n",
       "      <td>0.725490</td>\n",
       "    </tr>\n",
       "    <tr>\n",
       "      <th>AC</th>\n",
       "      <td>AC</td>\n",
       "      <td>0.647059</td>\n",
       "      <td>0.649860</td>\n",
       "    </tr>\n",
       "    <tr>\n",
       "      <th>AD</th>\n",
       "      <td>AD</td>\n",
       "      <td>0.697479</td>\n",
       "      <td>0.714286</td>\n",
       "    </tr>\n",
       "    <tr>\n",
       "      <th>BC</th>\n",
       "      <td>BC</td>\n",
       "      <td>0.677871</td>\n",
       "      <td>0.641457</td>\n",
       "    </tr>\n",
       "    <tr>\n",
       "      <th>BD</th>\n",
       "      <td>BD</td>\n",
       "      <td>0.705882</td>\n",
       "      <td>0.722689</td>\n",
       "    </tr>\n",
       "    <tr>\n",
       "      <th>CD</th>\n",
       "      <td>CD</td>\n",
       "      <td>0.691877</td>\n",
       "      <td>0.686275</td>\n",
       "    </tr>\n",
       "    <tr>\n",
       "      <th>ABC</th>\n",
       "      <td>ABC</td>\n",
       "      <td>0.719888</td>\n",
       "      <td>0.714286</td>\n",
       "    </tr>\n",
       "    <tr>\n",
       "      <th>ABD</th>\n",
       "      <td>ABD</td>\n",
       "      <td>0.708683</td>\n",
       "      <td>0.731092</td>\n",
       "    </tr>\n",
       "    <tr>\n",
       "      <th>ACD</th>\n",
       "      <td>ACD</td>\n",
       "      <td>0.703081</td>\n",
       "      <td>0.717087</td>\n",
       "    </tr>\n",
       "    <tr>\n",
       "      <th>BCD</th>\n",
       "      <td>BCD</td>\n",
       "      <td>0.708683</td>\n",
       "      <td>0.722689</td>\n",
       "    </tr>\n",
       "    <tr>\n",
       "      <th>ABCD</th>\n",
       "      <td>ABCD</td>\n",
       "      <td>0.722689</td>\n",
       "      <td>0.742297</td>\n",
       "    </tr>\n",
       "  </tbody>\n",
       "</table>\n",
       "</div>"
      ],
      "text/plain": [
       "     model        SC        RC\n",
       "AB      AB  0.719888  0.725490\n",
       "AC      AC  0.647059  0.649860\n",
       "AD      AD  0.697479  0.714286\n",
       "BC      BC  0.677871  0.641457\n",
       "BD      BD  0.705882  0.722689\n",
       "CD      CD  0.691877  0.686275\n",
       "ABC    ABC  0.719888  0.714286\n",
       "ABD    ABD  0.708683  0.731092\n",
       "ACD    ACD  0.703081  0.717087\n",
       "BCD    BCD  0.708683  0.722689\n",
       "ABCD  ABCD  0.722689  0.742297"
      ]
     },
     "execution_count": 23,
     "metadata": {},
     "output_type": "execute_result"
    }
   ],
   "source": [
    "newDF = pd.concat([df.SC,rc.RC], axis = 1)\n",
    "newDF.insert(0,'model',['AB','AC','AD','BC','BD','CD','ABC','ABD','ACD','BCD','ABCD'])\n",
    "\n",
    "d = {'model':['A','B','C','D'], 'SC': [A_prec,B_prec,C_prec,D_prec],'RC': [A_prec,B_prec,C_prec,D_prec] }\n",
    "singleDF = pd.DataFrame(d, index = ['A','B','C','D'])\n",
    "doubleDF = pd.DataFrame(newDF[:6])\n",
    "tripeDF = pd.DataFrame(newDF[6:10])\n",
    "quarticDF = pd.DataFrame(newDF[10:11])\n",
    "\n",
    "singleDF = singleDF.sort_values(by = 'RC')\n",
    "doubleDF = doubleDF.sort_values(by = 'RC')\n",
    "tripeDF = tripeDF.sort_values(by = 'RC')\n",
    "quarticDF = quarticDF.sort_values(by = 'RC')\n",
    "\n",
    "newDF"
   ]
  },
  {
   "cell_type": "code",
   "execution_count": 24,
   "metadata": {},
   "outputs": [
    {
     "data": {
      "text/plain": [
       "(0.5, 0.75)"
      ]
     },
     "execution_count": 24,
     "metadata": {},
     "output_type": "execute_result"
    },
    {
     "data": {
      "image/png": "[encoded data removed]",
      "text/plain": [
       "<Figure size 432x288 with 1 Axes>"
      ]
     },
     "metadata": {
      "needs_background": "light"
     },
     "output_type": "display_data"
    }
   ],
   "source": [
    "l1 = plt.hlines(A_prec,0,10.5,'gray', linestyle= 'dotted')\n",
    "l2 = plt.hlines(B_prec,0,10.5,'gray', linestyle= 'dotted')\n",
    "l3 = plt.hlines(C_prec,0,10.5,'gray', linestyle= 'dotted')\n",
    "l4 = plt.hlines(D_prec,0,10.5,'gray', linestyle= 'dotted',label = 'individual models')\n",
    "\n",
    "plt.plot(doubleDF.model, doubleDF.SC, '^--', c = 'm',markersize = 8)\n",
    "plt.plot(doubleDF.model, doubleDF.RC, 'o--', c = 'b', fillstyle = 'none',markersize = 8 )\n",
    "\n",
    "plt.plot(tripeDF.model, tripeDF.SC, '^--',c = 'm',markersize = 8 )\n",
    "plt.plot(tripeDF.model, tripeDF.RC, 'o--', c = 'b',fillstyle = 'none',markersize = 8 )\n",
    "\n",
    "plt.plot(quarticDF.model, quarticDF.SC, '^--',c = 'm',markersize = 8 , label = 'Score Combination')\n",
    "plt.plot(quarticDF.model, quarticDF.RC, 'o--', c = 'b', markersize = 8 ,label = 'Rank Combination',fillstyle = 'none')\n",
    "\n",
    "plt.ylabel(\"Precision\")\n",
    "\n",
    "\n",
    "plt.xticks(rotation=90)\n",
    "plt.legend(loc = 'best')\n",
    "plt.ylim(0.5,0.75)\n",
    "\n"
   ]
  }
 ],
 "metadata": {
  "kernelspec": {
   "display_name": "Python 3",
   "language": "python",
   "name": "python3"
  },
  "language_info": {
   "codemirror_mode": {
    "name": "ipython",
    "version": 3
   },
   "file_extension": ".py",
   "mimetype": "text/x-python",
   "name": "python",
   "nbconvert_exporter": "python",
   "pygments_lexer": "ipython3",
   "version": "3.6.8"
  }
 },
 "nbformat": 4,
 "nbformat_minor": 2
}
